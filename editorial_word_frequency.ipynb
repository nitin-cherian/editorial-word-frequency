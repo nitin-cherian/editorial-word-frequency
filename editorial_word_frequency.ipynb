{
 "cells": [
  {
   "cell_type": "code",
   "execution_count": 194,
   "metadata": {},
   "outputs": [],
   "source": [
    "# import modules\n",
    "import requests\n",
    "from bs4 import BeautifulSoup\n",
    "import re\n",
    "import datetime"
   ]
  },
  {
   "cell_type": "code",
   "execution_count": 195,
   "metadata": {},
   "outputs": [],
   "source": [
    "def get_html_from_url(url):\n",
    "    try:\n",
    "        r = requests.get(url)\n",
    "    except requests.exceptions.RequestException as e:\n",
    "        print(str(e))\n",
    "        return None\n",
    "    return r.text"
   ]
  },
  {
   "cell_type": "code",
   "execution_count": 196,
   "metadata": {},
   "outputs": [],
   "source": [
    "html = get_html_from_url(\"https://www.nytimes.com/section/opinion/editorials\")"
   ]
  },
  {
   "cell_type": "code",
   "execution_count": 197,
   "metadata": {},
   "outputs": [],
   "source": [
    "def make_soup_from_html(html):\n",
    "    soup = BeautifulSoup(html, \"html5lib\")\n",
    "    return soup\n",
    "        \n",
    "    "
   ]
  },
  {
   "cell_type": "code",
   "execution_count": 198,
   "metadata": {},
   "outputs": [],
   "source": [
    "soup = make_soup_from_html(html)"
   ]
  },
  {
   "cell_type": "code",
   "execution_count": 199,
   "metadata": {},
   "outputs": [
    {
     "data": {
      "text/plain": [
       "<title>Editorials - The New York Times</title>"
      ]
     },
     "execution_count": 199,
     "metadata": {},
     "output_type": "execute_result"
    }
   ],
   "source": [
    "soup.title\n"
   ]
  },
  {
   "cell_type": "code",
   "execution_count": 200,
   "metadata": {},
   "outputs": [
    {
     "name": "stdout",
     "output_type": "stream",
     "text": [
      "2017/11/29\n"
     ]
    }
   ],
   "source": [
    "today = datetime.datetime.today().strftime('%Y/%m/%d')\n",
    "print(today)"
   ]
  },
  {
   "cell_type": "code",
   "execution_count": 201,
   "metadata": {},
   "outputs": [],
   "source": [
    "# Use CSS selector to get the todays editorials\n",
    "# We are selecting only those tags that correspond to today's date.\n",
    "# Search for the a tags with href containing today's date, under tag 'latest-panel .story .story-body'  \n",
    "css_selector = '#latest-panel .story .story-body a[href*=\"{today}\"]'.format(today=today)\n",
    "todays_editorials = soup.select(css_selector)\n",
    "todays_editorial_urls = []\n",
    "for editorial in todays_editorials:\n",
    "    todays_editorial_urls.append(editorial['href']) # Get the value of href attribute\n",
    "\n",
    " "
   ]
  },
  {
   "cell_type": "code",
   "execution_count": 202,
   "metadata": {},
   "outputs": [
    {
     "data": {
      "text/plain": [
       "['https://www.nytimes.com/2017/11/29/opinion/guns-pentagon-kelley.html',\n",
       " 'https://www.nytimes.com/2017/11/29/opinion/prince-harry-meghan-markle.html']"
      ]
     },
     "execution_count": 202,
     "metadata": {},
     "output_type": "execute_result"
    }
   ],
   "source": [
    "todays_editorial_urls"
   ]
  },
  {
   "cell_type": "code",
   "execution_count": 203,
   "metadata": {},
   "outputs": [],
   "source": [
    "def get_all_editorial_text(urls):\n",
    "    text = \"\"\n",
    "    for url in urls:\n",
    "        html = get_html_from_url(url)\n",
    "        soup = make_soup_from_html(html)\n",
    "        story = soup.find_all('p', class_=\"story-body-text story-content\")\n",
    "        for paragraph in story:\n",
    "            text += paragraph.get_text()\n",
    "    return text "
   ]
  },
  {
   "cell_type": "code",
   "execution_count": 204,
   "metadata": {},
   "outputs": [
    {
     "data": {
      "text/plain": [
       "'Fifty clicks of a keyboard and the pirouette of a mouse. Two minutes of a file clerk’s day. That’s possibly all it would have taken to save the lives of 26 Americans, slain in their pews, by a wife-beating child abuser who should never have had a gun.The graphic horror of American gun deaths is matched only by the bureaucratic indifference that does so little to thwart the carnage.Devin Patrick Kelley, the man who brought so much bloodshed to Sutherland Springs, Tex., the morning of Nov. 5, had hurt a child before. In 2012, he was convicted in a military court-martial of assaulting his wife and cracking his infant stepson’s skull.That conviction should have barred Mr. Kelley under federal law from purchasing firearms, but the Air Force failed to report it to the National Instant Criminal Background Check System, often known by its acronym, NICS, the screening tool for gun purchases in the United States.People convicted of felonies or domestic violence misdemeanors forfeit their right to bear arms in the United States. There are similar prohibitions for people with diagnoses of mental illness and known drug or alcohol abuse. In theory, state and federal agencies plus hospitals are supposed to report all such information to the F.B.I. Licensed gun sellers are required to contact an F.B.I. office in West Virginia, by telephone or electronically, before ringing up a gun sale to ensure the buyer isn’t listed as banned.But NICS is only as good as the data that’s put into it. A decade ago, a mentally ill man named Seung-Hui Cho went on a killing spree on the campus of Virginia Tech, murdering 32 people and injuring 17 others. In the aftermath, Congress passed a bill to strengthen NICS with more criminal records and mental health information. While there is still room for improvement, Department of Justice data suggests the number of federal and state records entered into NICS has increased significantly since the law was signed in January 2008.Now, a group of senators, led by John Cornyn, a Republican from Texas and one of the strongest gun rights advocates in Congress, has put forward a similar measure that would improve the reporting of domestic violence convictions. Mr. Cornyn’s measure would impose a financial penalty on the heads of federal agencies that fail to report the convictions. It would also reward states that improve reporting, and would provide more federal funding toward those efforts.In the weeks since the Sutherland Springs murders, it’s become apparent that the Pentagon’s failure in the Kelley case was one of many; time and again, it has failed to forward criminal incident data to the F.B.I., which maintains the three databases that NICS pulls from. The Air Force conducted a review in recent weeks, saying Tuesday that the military had failed to report several dozen serious crimes to the bureau’s databases and that it was in the process of fixing the problem. Outside the Pentagon, a separate report by the public interest group The National Consortium for Justice Information and Statistics from 2013 found millions of records missing — of criminal convictions, prior mental illness and other red flags — that are supposed to keep guns out of potentially dangerous hands.The new bill, called the Fix NICS Act, is the rare piece of gun legislation that has no meaningful opposition and that has bipartisan support. Across the aisle, the lead co-sponsor is Chris Murphy of Connecticut, with three other senior Democrats backing it as well. The National Rifle Association has also applauded the measure.Attorney General Jeff Sessions has also weighed in, announcing last week a full evaluation of the NICS process. Suggesting that one error that leads to tragedy is one too many, he said the NICS database “is critical for us to be able to keep guns out of the hands of those that are prohibited from owning them.”The Justice Department’s review will focus on military reporting, as well as the “format, structure and wording” of NICS forms and other potential obstacles to compliance. A bigger question that it might want to consider is whether NICS reporting should be more standardized. Right now, every state submits what it wants with no true national protocols. Even the definition of “domestic violence” varies from state to state.A quick vote, at the very least by the end of the year, would be welcome — unencumbered by controversial amendments that could delay or even torpedo it, thus risking many more lives. The House Judiciary Committee is expected to mark up the bill this week.For its part, the Pentagon should look to itself and sanction those responsible for the Kelley failure. Falling asleep on guard duty and shirking administrative due diligence are equally deadly.Reader comments in Britain on the engagement of Prince Harry and Meghan Markle have an inevitable sprinkling of the enough-already-about-the-royal-family variety. But not many. Most reflect a genuine fascination, ranging from simple expressions of good wishes to commentaries on royal weddings past and the significance of a popular, modern prince marrying a mixed-race American actress.There’s a lot of grist there. And it couldn’t come at a better time: Britain in the throes of a miserable divorce from the European Union; Europe (and America) dealing with nationalist and even racist sentiments; sex-pest revelations everywhere — a whole world, it seems, in desperate need of diversion and romance.We have learned why Ms. Markle may soon be the duchess of Sussex but will never be “Princess Meg” (“princess” is reserved for royal blood) and has almost no chance of being queen (Prince Harry is now fifth in line for the throne, and when Catherine, duchess of Cambridge, to use Kate’s formal name, has her child, he will drop to sixth).This and much more we have discovered or rediscovered, all to the refrain of “how things have changed.” A royal prince marrying an American whose mother is African-American, who is divorced to boot, is not something that could have happened 100 years ago, maybe not even 20. When the British tabloids first found out about the relationship a year ago and let loose, Prince Harry was compelled to issue a fierce broadside denouncing “racial undertones” in some of the commentaries.Yet it is by breaking taboos that Britain’s royal family has remained not only entertaining, but also relevant to all the many people who ardently follow them. Diana, Princess of Wales, remains revered as the “peoples’ princess” for refusing to be constrained by barriers of tradition and snobbery, and her sons, Prince William, the heir apparent, and Prince Harry have been true to her legacy.Prince Harry has become possibly the most popular of the royals by being arguably the most modern, in part through his history of questionable behavior, but also for his cheeky smile, distinguished military service and dedication to worthy causes like the Invictus Games, a sporting event for wounded or disabled veterans he created. It was at the Invictus event in Toronto in September that the English prince and the American actress of mixed race made their first public appearance, holding hands, laughing and even kissing.The global fascination with British royals ensures a long and lively discussion of the engagement and what it means for British identity, royal lineage and whatnot. But Prince Harry and Ms. Markle have already given their simple and admirable answer, that their very public world is not one in which class, background, nationality or race are obstacles to love.'"
      ]
     },
     "execution_count": 204,
     "metadata": {},
     "output_type": "execute_result"
    }
   ],
   "source": [
    "todays_editorial_text = get_all_editorial_text(todays_editorial_urls)\n",
    "todays_editorial_text"
   ]
  },
  {
   "cell_type": "code",
   "execution_count": null,
   "metadata": {},
   "outputs": [],
   "source": []
  }
 ],
 "metadata": {
  "kernelspec": {
   "display_name": "Python 3",
   "language": "python",
   "name": "python3"
  },
  "language_info": {
   "codemirror_mode": {
    "name": "ipython",
    "version": 3
   },
   "file_extension": ".py",
   "mimetype": "text/x-python",
   "name": "python",
   "nbconvert_exporter": "python",
   "pygments_lexer": "ipython3",
   "version": "3.6.2"
  }
 },
 "nbformat": 4,
 "nbformat_minor": 2
}
