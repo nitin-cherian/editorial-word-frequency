{
 "cells": [
  {
   "cell_type": "code",
   "execution_count": 6,
   "metadata": {},
   "outputs": [],
   "source": [
    "# import modules\n",
    "import requests\n",
    "from bs4 import BeautifulSoup\n",
    "import html5lib.HTMLParser as HTMLParser"
   ]
  },
  {
   "cell_type": "code",
   "execution_count": 2,
   "metadata": {},
   "outputs": [],
   "source": [
    "def get_html_from_url(url):\n",
    "    try:\n",
    "        r = requests.get(url)\n",
    "    except requests.exceptions.RequestException as e:\n",
    "        print(str(e))\n",
    "        return None\n",
    "    return r.text"
   ]
  },
  {
   "cell_type": "code",
   "execution_count": 8,
   "metadata": {},
   "outputs": [],
   "source": [
    "html = get_html_from_url(\"https://www.nytimes.com/section/opinion/editorials\")"
   ]
  },
  {
   "cell_type": "code",
   "execution_count": 7,
   "metadata": {},
   "outputs": [],
   "source": [
    "def make_soup_from_html(html):\n",
    "    try:\n",
    "        soup = BeautifulSoup(html, \"html5lib\")\n",
    "    except HTMLParser.HTMLParseError as e:\n",
    "        print(str(e))\n",
    "        return None\n",
    "    return soup\n",
    "        \n",
    "    "
   ]
  },
  {
   "cell_type": "code",
   "execution_count": 9,
   "metadata": {},
   "outputs": [],
   "source": [
    "soup = make_soup_from_html(html)"
   ]
  },
  {
   "cell_type": "code",
   "execution_count": 10,
   "metadata": {},
   "outputs": [
    {
     "data": {
      "text/plain": [
       "<title>Editorials - The New York Times</title>"
      ]
     },
     "execution_count": 10,
     "metadata": {},
     "output_type": "execute_result"
    }
   ],
   "source": [
    "soup.title\n"
   ]
  },
  {
   "cell_type": "code",
   "execution_count": 24,
   "metadata": {},
   "outputs": [],
   "source": [
    "page_editorials = soup.find_all(\"a\", class_=\"story-link\")\n",
    "todays_editorials = page_editorials[:2]  # Everyday 2 editorials. No editorials on Sunday\n",
    "editorial_urls = []\n",
    "for editorial in todays_editorials:\n",
    "    editorial_urls.append(editorial['href'])\n",
    " "
   ]
  },
  {
   "cell_type": "code",
   "execution_count": 25,
   "metadata": {},
   "outputs": [
    {
     "data": {
      "text/plain": [
       "['https://www.nytimes.com/2017/11/27/opinion/sandy-hook-parents-guns-.html',\n",
       " 'https://www.nytimes.com/2017/11/27/opinion/congressmen-sexual-harassment-taxpayers.html']"
      ]
     },
     "execution_count": 25,
     "metadata": {},
     "output_type": "execute_result"
    }
   ],
   "source": [
    "editorial_urls"
   ]
  },
  {
   "cell_type": "code",
   "execution_count": 35,
   "metadata": {},
   "outputs": [
    {
     "data": {
      "text/plain": [
       "<title>Scarred Parents Fight to Rebound From Sandy Hook School Massacre - The New York Times</title>"
      ]
     },
     "execution_count": 35,
     "metadata": {},
     "output_type": "execute_result"
    }
   ],
   "source": [
    "url = editorial_urls[0]\n",
    "editorial_html = get_html_from_url(url)\n",
    "editorial_soup = make_soup_from_html(editorial_html)\n",
    "editorial_soup.title"
   ]
  },
  {
   "cell_type": "code",
   "execution_count": 36,
   "metadata": {},
   "outputs": [
    {
     "name": "stdout",
     "output_type": "stream",
     "text": [
      "Newtown, Conn. — Mark Barden was flying home from Ohio recently after working on the gun control issue — his full-time career now — and thinking of his son Daniel, who was murdered in the Sandy Hook school massacre here on Dec. 14, 2012. He texted a memo to himself about the loss of the 7-year-old, who was shot to death with 19 other first graders and six educators in one of the nation’s horrific yet endless series of mass shootings.“I desperately want to just bask in his sweetness, his smiles, hugs, kisses,” the father wrote, yearning to keep Daniel’s image clear in his mind as he wonders what he’d be like today, at 12. “Enjoy a moment of pure, pleasant memories of the smart, affectionate little boy.”Mr. Barden shared the memo in the spirit of a parent who has nothing more precious to lose and says why not. Such daily notions are part of the hard, desperate routine of the surviving families spiritually scarred in the nation’s gun carnage. Sympathetic strangers often tell the parents, “I can’t imagine what you’re going through.” Jeremy Richman, who lost his daughter Avielle at Sandy Hook, has a challenging response. “As hard and as horrible as it sounds, we need people to imagine what it is like,” he says. “Without that imagination, we’ll never change.”In his memo, Mr. Barden described “an overwhelming, very specific sadness for which there is no word.” He wrote: “It is laced with a profound sense of longing and deep sorrow and is further compounded by the darkness and finality of death. And not a natural, biological death either.”Mr. Barden and other Sandy Hook parents finally had a day in court this month at a State Supreme Court hearing to press their difficult attempt to sue Remington, the gun manufacturer. They’re asking why fast-firing, modified battlefield weapons with large ammunition clips should ever be legally marketed to disturbed and in many cases unhinged civilians via lurid, macho-steeped advertising. The adapted wartime rifle like the one used in the Sandy Hook spree has become the weapon of choice in mass shootings across the last five years, in which hundreds of people have been murdered. The special state commission that investigated Sandy Hook warned that these weapons have “no legitimate place in the civilian population.”“It’s as simple as convenience in target shooting,” a Remington lawyer told a skeptical judge about the rapid-fire feature while arguing the rifle could prove helpful, too, in a “firefight” with a home intruder. Shooters’ convenience? Firefight? The parents find the tragedy devoid of all the “sportsmanship” regularly hyped by the National Rifle Association and its obedient cohort in Congress. Adam Lanza, the 20-year-old killer, sprayed his victims in a 154-round, five-minute onslaught.Outside the Hartford courthouse, Ian Hockley read a statement about his son Dylan “murdered in his first-grade classroom, shot at least five times at point-blank range with a Bushmaster variant.” Mr. Hockley vowed the parents would show “infinite patience to see justice done.” They will need it, because in 2005 Congress gave the gun industry an extraordinary shield from being sued that other industries can only envy, shutting out victimized families except in rare circumstances.The rustic suburb of Newtown looks largely unchanged in five years, though the crime-scene schoolhouse has been razed along with the killer’s picturesque home on Yogananda Street, with its contents burned to foil souvenir hunters. There are plans for a memorial. (“Our memorial is that empty chair,” says Mr. Barden, gesturing at his dinner table.) Mr. Barden and other parents created Sandy Hook Promise (www.sandyhookpromise.org), a nonprofit that has expanded to all 50 states to teach the early warning signs often exhibited by potentially violent people.Mr. Barden, who had been a full-time musician, brought his band, Alternate Universe, out of retirement for a hometown concert Thanksgiving eve for the families’ neighbors. “Thanksgiving for people who have been with us through thick and thin, good days and bad.”The Newtown Bee, the hometown newspaper, wondered four years ago whether the schoolhouse carnage “has created its own ever-expanding universe, surging out from a big bang amplified by cameras and microphones to places unknown.” A sad but accurate prophesy, as the Sandy Hook parents witness the mass shootings ever resounding across the nation.\n"
     ]
    }
   ],
   "source": [
    "story = editorial_soup.find_all('p', class_=\"story-body-text story-content\")\n",
    "text = \"\"\n",
    "for paragraph in story:\n",
    "    text += paragraph.get_text()\n",
    "print(text)    "
   ]
  },
  {
   "cell_type": "code",
   "execution_count": null,
   "metadata": {},
   "outputs": [],
   "source": []
  }
 ],
 "metadata": {
  "kernelspec": {
   "display_name": "Python 3",
   "language": "python",
   "name": "python3"
  },
  "language_info": {
   "codemirror_mode": {
    "name": "ipython",
    "version": 3
   },
   "file_extension": ".py",
   "mimetype": "text/x-python",
   "name": "python",
   "nbconvert_exporter": "python",
   "pygments_lexer": "ipython3",
   "version": "3.6.2"
  }
 },
 "nbformat": 4,
 "nbformat_minor": 2
}
